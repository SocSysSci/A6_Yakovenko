{
  "nbformat": 4,
  "nbformat_minor": 0,
  "metadata": {
    "colab": {
      "name": "07_yakovenko_model.ipynb",
      "provenance": [],
      "include_colab_link": true
    },
    "kernelspec": {
      "name": "python3",
      "display_name": "Python 3"
    },
    "language_info": {
      "name": "python"
    }
  },
  "cells": [
    {
      "cell_type": "markdown",
      "metadata": {
        "id": "view-in-github",
        "colab_type": "text"
      },
      "source": [
        "<a href=\"https://colab.research.google.com/github/SocSysSci/A6_Yakovenko/blob/main/A6_Yakovenko.ipynb\" target=\"_parent\"><img src=\"https://colab.research.google.com/assets/colab-badge.svg\" alt=\"Open In Colab\"/></a>"
      ]
    },
    {
      "cell_type": "markdown",
      "metadata": {
        "id": "_7iZTssAo70K"
      },
      "source": [
        "## 1. 準備"
      ]
    },
    {
      "cell_type": "markdown",
      "metadata": {
        "id": "Inuj6Y5so1Na"
      },
      "source": [
        "### パッケージのインポート"
      ]
    },
    {
      "cell_type": "code",
      "metadata": {
        "id": "9D8qCxdNf7mD"
      },
      "source": [
        "import random\n",
        "import matplotlib.pyplot as plt"
      ],
      "execution_count": null,
      "outputs": []
    },
    {
      "cell_type": "markdown",
      "metadata": {
        "id": "GQifuS1opAXc"
      },
      "source": [
        "#### エージェントの定義"
      ]
    },
    {
      "cell_type": "code",
      "metadata": {
        "id": "Wbvmdmz5f9jX"
      },
      "source": [
        "class Agent:\n",
        "  def __init__(self, initial_wealth, possible_dept = 0):\n",
        "    self.wealth = initial_wealth\n",
        "    self.possible_dept = possible_dept\n",
        "    self.history = []\n",
        "    self.history.append(self.wealth) # 初期資産の記録\n",
        "\n",
        "  def register_to_history(self):\n",
        "    self.history.append(self.wealth) # 現在の資産の記録\n",
        "\n",
        "  def give_money_to(self, agent):\n",
        "    if self.possible_dept < self.wealth:\n",
        "      self.wealth -= 1\n",
        "      agent.wealth += 1"
      ],
      "execution_count": null,
      "outputs": []
    },
    {
      "cell_type": "markdown",
      "metadata": {
        "id": "WA6k_7rrpIVC"
      },
      "source": [
        "#### エージェント間での資産のやりとりをする関数"
      ]
    },
    {
      "cell_type": "code",
      "metadata": {
        "id": "2Auv7YJPgWEi"
      },
      "source": [
        "def transfer_money(agents):\n",
        "  two_agents = random.sample(agents, 2)\n",
        "  two_agents[0].give_money_to(two_agents[1])"
      ],
      "execution_count": null,
      "outputs": []
    },
    {
      "cell_type": "markdown",
      "metadata": {
        "id": "ky-N2AkqpOGv"
      },
      "source": [
        "## 2. シミュレーション"
      ]
    },
    {
      "cell_type": "markdown",
      "metadata": {
        "id": "1OZeaUSqFw51"
      },
      "source": [
        "#### シミュレーション"
      ]
    },
    {
      "cell_type": "code",
      "metadata": {
        "id": "F-VDeOvrg4q5"
      },
      "source": [
        "n = 500       # エージェント数\n",
        "time = 5000   # シミュレーションの回数\n",
        "\n",
        "# エージェントを生成\n",
        "agents = [Agent(1) for _ in range(n)]\n",
        "\n",
        "# シミュレーション本体\n",
        "for i in range(time):\n",
        "  # ランダムに選ばれた2エージェント間でお金をやりとり\n",
        "  transfer_money(agents)\n",
        "  # 全てのエージェントの資産を記録\n",
        "  for a in agents:\n",
        "    a.register_to_history()\n",
        "\n",
        "# 資産の分布を表示\n",
        "agent_wealth = [a.wealth for a in agents]\n",
        "plt.hist(agent_wealth, bins=50)"
      ],
      "execution_count": null,
      "outputs": []
    },
    {
      "cell_type": "markdown",
      "metadata": {
        "id": "x4gKr75AGDRL"
      },
      "source": [
        "#### 資産の変化を表示"
      ]
    },
    {
      "cell_type": "code",
      "metadata": {
        "id": "oCe6ByRjFdyn"
      },
      "source": [
        "plt.figure(figsize=[20,5])\n",
        "for a in agents:\n",
        "  plt.plot(a.history)"
      ],
      "execution_count": null,
      "outputs": []
    },
    {
      "cell_type": "markdown",
      "metadata": {
        "id": "5uM6F3puC4SL"
      },
      "source": [
        "## 3. ジニ係数"
      ]
    },
    {
      "cell_type": "markdown",
      "metadata": {
        "id": "Z50BQ-hnDid0"
      },
      "source": [
        "#### 関数の定義"
      ]
    },
    {
      "cell_type": "code",
      "metadata": {
        "id": "0Gh3KDFFn2FX"
      },
      "source": [
        "def gini(y):\n",
        "  y.sort()\n",
        "  y = [v - y[0] for v in y]\n",
        "  n = len(y)\n",
        "  nume = 0\n",
        "  for i in range(n):\n",
        "    nume += (i + 1) * y[i]\n",
        "  deno = n * sum(y)\n",
        "  g = ((2 * nume)/deno - (n+1)/n) * (n/(n-1))\n",
        "  return g"
      ],
      "execution_count": null,
      "outputs": []
    },
    {
      "cell_type": "markdown",
      "metadata": {
        "id": "qspTz7J1DnFX"
      },
      "source": [
        "#### ジニ係数の変化を見るシミュレーション"
      ]
    },
    {
      "cell_type": "code",
      "metadata": {
        "id": "8JkBLz-dDfr0"
      },
      "source": [
        "n = 500      # エージェント数\n",
        "time = 5000  # シミュレーション回数\n",
        "\n",
        "# エージェントを生成\n",
        "agents = [Agent(1) for _ in range(n)]\n",
        "\n",
        "# シミュレーション本体\n",
        "for i in range(time):\n",
        "  transfer_money(agents)\n",
        "  for a in agents:\n",
        "    a.register_to_history()\n",
        "  if i % 1000 == 0 or i == time-1: # 1000回ごとに表示\n",
        "    agent_wealth = [a.wealth for a in agents]\n",
        "    print(\"Time:{}, Gini:{}\".format(i, gini(agent_wealth)))\n",
        "    plt.hist(agent_wealth, bins=10)\n",
        "    plt.show()\n"
      ],
      "execution_count": null,
      "outputs": []
    },
    {
      "cell_type": "markdown",
      "metadata": {
        "id": "cWj_eSrVLRRI"
      },
      "source": [
        "## 4. 会社モデル"
      ]
    },
    {
      "cell_type": "code",
      "metadata": {
        "id": "je5oeXErLYBs"
      },
      "source": [
        "n = 500     # エージェント数\n",
        "time = 5000 # シミュレーション回数\n",
        "\n",
        "# 会社のパラメータ\n",
        "K = 100 # 借入金（資本）\n",
        "L = 20  # 社員数\n",
        "W = 5   # 給料\n",
        "R = 1   # 価格\n",
        "r = 0.1 # 利子\n",
        "b = 0.8 # 生産係数\n",
        "\n",
        "# 製品の生産量を計算する関数\n",
        "def number_of_product(worker_num, capital, beta):\n",
        "  return int((worker_num ** beta) * (capital ** (1 - beta)))\n",
        "\n",
        "# エージェントを生成\n",
        "agents = [Agent(10) for _ in range(n)]\n",
        "\n",
        "# シミュレーション本体\n",
        "for i in range(time):\n",
        "  # 製品数\n",
        "  prod_num = number_of_product(L, K, b)\n",
        "\n",
        "  # 社長の収入\n",
        "  a = random.choice(agents)\n",
        "  a.wealth = R * prod_num - L * W - r * K\n",
        "\n",
        "  # 貸付した人の収入収入\n",
        "  a = random.choice(agents)\n",
        "  a.wealth = r * K\n",
        "\n",
        "  # 社員の収入\n",
        "  workers = random.sample(agents, L)\n",
        "  for w in workers:\n",
        "    w.wealth += W\n",
        "\n",
        "  # 顧客（商品を買うために支払う）\n",
        "  customers = random.sample(agents, prod_num)\n",
        "  for c in customers:\n",
        "    c.wealth -= R\n",
        "\n",
        "  # 全員の資産を記録\n",
        "  for a in agents:\n",
        "    a.register_to_history()\n",
        "\n",
        "# 資産の分布を表示\n",
        "agent_wealth = [a.wealth for a in agents]\n",
        "plt.hist(agent_wealth, bins=50)"
      ],
      "execution_count": null,
      "outputs": []
    }
  ]
}